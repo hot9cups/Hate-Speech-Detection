{
 "cells": [
  {
   "cell_type": "markdown",
   "metadata": {},
   "source": [
    "Required imports and creating train/test pandas dataframes:"
   ]
  },
  {
   "cell_type": "code",
   "execution_count": 1,
   "metadata": {
    "_cell_guid": "b1076dfc-b9ad-4769-8c92-a6c4dae69d19",
    "_uuid": "8f2839f25d086af736a60e9eeb907d3b93b6e0e5"
   },
   "outputs": [],
   "source": [
    "\n",
    "import numpy as np\n",
    "import pandas as pd\n",
    "import os\n",
    "test_df = pd.read_csv(\"data/toxic_test.csv\")\n",
    "train_df = pd.read_csv(\"data/toxic_train.csv\")\n"
   ]
  },
  {
   "cell_type": "markdown",
   "metadata": {},
   "source": [
    "# Basic EDA\n",
    "Few examples of non-toxic and toxic speech."
   ]
  },
  {
   "cell_type": "markdown",
   "metadata": {},
   "source": [
    "**Non-Toxic Text Examples:**"
   ]
  },
  {
   "cell_type": "code",
   "execution_count": 2,
   "metadata": {
    "_cell_guid": "79c7e3d0-c299-4dcb-8224-4455121ee9b0",
    "_uuid": "d629ff2d2480ee46fbb7e2d37f6b5fab8052498a"
   },
   "outputs": [
    {
     "name": "stdout",
     "output_type": "stream",
     "text": [
      "Explanation\r\n",
      "Why the edits made under my username Hardcore Metallica Fan were reverted? They weren't vandalisms, just closure on some GAs after I voted at New York Dolls FAC. And please don't remove the template from the talk page since I'm retired now.89.205.38.27\n",
      "\n",
      "\n",
      "D'aww! He matches this background colour I'm seemingly stuck with. Thanks.  (talk) 21:51, January 11, 2016 (UTC)\n",
      "\n",
      "\n",
      "Hey man, I'm really not trying to edit war. It's just that this guy is constantly removing relevant information and talking to me through edits instead of my talk page. He seems to care more about the formatting than the actual info.\n",
      "\n",
      "\n",
      "\"\r\n",
      "More\r\n",
      "I can't make any real suggestions on improvement - I wondered if the section statistics should be later on, or a subsection of \"\"types of accidents\"\"  -I think the references may need tidying so that they are all in the exact same format ie date format etc. I can do that later on, if no-one else does first - if you have any preferences for formatting style on references or want to do it yourself please let me know.\r\n",
      "\r\n",
      "There appears to be a backlog on articles for review so I guess there may be a delay until a reviewer turns up. It's listed in the relevant form eg Wikipedia:Good_article_nominations#Transport  \"\n",
      "\n",
      "\n",
      "You, sir, are my hero. Any chance you remember what page that's on?\n"
     ]
    }
   ],
   "source": [
    "\n",
    "print(train_df[train_df[\"toxic\"] == 0][\"comment_text\"].values[0])\n",
    "print(\"\\n\")\n",
    "print(train_df[train_df[\"toxic\"] == 0][\"comment_text\"].values[1])\n",
    "print(\"\\n\")\n",
    "print(train_df[train_df[\"toxic\"] == 0][\"comment_text\"].values[2])\n",
    "print(\"\\n\")\n",
    "print(train_df[train_df[\"toxic\"] == 0][\"comment_text\"].values[3])\n",
    "print(\"\\n\")\n",
    "print(train_df[train_df[\"toxic\"] == 0][\"comment_text\"].values[4])"
   ]
  },
  {
   "cell_type": "markdown",
   "metadata": {},
   "source": [
    "**Toxic Text Examples:**"
   ]
  },
  {
   "cell_type": "code",
   "execution_count": 3,
   "metadata": {},
   "outputs": [
    {
     "name": "stdout",
     "output_type": "stream",
     "text": [
      "COCKSUCKER BEFORE YOU PISS AROUND ON MY WORK\n",
      "\n",
      "\n",
      "Hey... what is it..\r\n",
      "@ | talk .\r\n",
      "What is it... an exclusive group of some WP TALIBANS...who are good at destroying, self-appointed purist who GANG UP any one who asks them questions abt their ANTI-SOCIAL and DESTRUCTIVE (non)-contribution at WP?\r\n",
      "\r\n",
      "Ask Sityush to clean up his behavior than issue me nonsensical warnings...\n",
      "\n",
      "\n",
      "Bye! \r\n",
      "\r\n",
      "Don't look, come or think of comming back! Tosser.\n",
      "\n",
      "\n",
      "You are gay or antisemmitian? \r\n",
      "\r\n",
      "Archangel WHite Tiger\r\n",
      "\r\n",
      "Meow! Greetingshhh!\r\n",
      "\r\n",
      "Uh, there are two ways, why you do erased my comment about WW2, that holocaust was brutally slaying of Jews and not gays/Gypsys/Slavs/anyone...\r\n",
      "\r\n",
      "1 - If you are anti-semitian, than shave your head bald and go to the skinhead meetings!\r\n",
      "\r\n",
      "2 - If you doubt words of the Bible, that homosexuality is a deadly sin, make a pentagram tatoo on your forehead go to the satanistic masses with your gay pals!\r\n",
      "\r\n",
      "3 - First and last warning, you fucking gay - I won't appreciate if any more nazi shwain would write in my page! I don't wish to talk to you anymore!\r\n",
      "\r\n",
      "Beware of the Dark Side!\n",
      "\n",
      "\n",
      "FUCK YOUR FILTHY MOTHER IN THE ASS, DRY!\n"
     ]
    }
   ],
   "source": [
    "print(train_df[train_df[\"toxic\"] == 1][\"comment_text\"].values[0])\n",
    "print(\"\\n\")\n",
    "print(train_df[train_df[\"toxic\"] == 1][\"comment_text\"].values[1])\n",
    "print(\"\\n\")\n",
    "print(train_df[train_df[\"toxic\"] == 1][\"comment_text\"].values[2])\n",
    "print(\"\\n\")\n",
    "print(train_df[train_df[\"toxic\"] == 1][\"comment_text\"].values[3])\n",
    "print(\"\\n\")\n",
    "print(train_df[train_df[\"toxic\"] == 1][\"comment_text\"].values[4])"
   ]
  },
  {
   "cell_type": "markdown",
   "metadata": {},
   "source": [
    "Looking at some trends throughout the training dataset:"
   ]
  },
  {
   "cell_type": "code",
   "execution_count": 4,
   "metadata": {},
   "outputs": [
    {
     "data": {
      "image/png": "[encoded data removed]",
      "text/plain": [
       "<Figure size 432x288 with 1 Axes>"
      ]
     },
     "metadata": {},
     "output_type": "display_data"
    }
   ],
   "source": [
    "from matplotlib import pyplot as plt\n",
    "\n",
    "plt.style.use('fivethirtyeight')\n",
    "\n",
    "tot = train_df.shape[0]\n",
    "num_toxic = train_df[train_df.toxic == 1].shape[0]\n",
    "\n",
    "slices = [num_toxic/tot,(tot - num_toxic)/tot]\n",
    "labeling = ['Toxic','Non-Toxic']\n",
    "explode = [0.2,0]\n",
    "plt.pie(slices,explode=explode,shadow=True,autopct='%1.1f%%',labels=labeling,wedgeprops={'edgecolor':'black'})\n",
    "plt.title('Number of Toxic vs. Non-Toxic Text Samples')\n",
    "plt.tight_layout()\n",
    "plt.show()\n",
    "\n"
   ]
  },
  {
   "cell_type": "markdown",
   "metadata": {},
   "source": [
    "So the dataset is clearly biased towards non-toxic comments."
   ]
  },
  {
   "cell_type": "markdown",
   "metadata": {},
   "source": [
    "# Vectorizing Text\n",
    "Using scikit-learn's CountVectorizer to vectorize each comment, whereby each word gets assigned to a numerical index, throwing away any word that occurs in more than 25% of the comments as well as any word that occurs less than 5 times"
   ]
  },
  {
   "cell_type": "code",
   "execution_count": 5,
   "metadata": {},
   "outputs": [
    {
     "name": "stdout",
     "output_type": "stream",
     "text": [
      "17 words discarded for occurring too frequently:\n",
      "{'as', 'be', 'that', 'is', 'in', 'you', 'it', 'of', 'have', 'are', 'the', 'to', 'and', 'this', 'not', 'for', 'on'}\n",
      "153525 words discarded for occurring too infrequently:\n",
      "['prevarication', '1749', 'rooze', 'blackham', 'involutions', 'ibe', 'kepanī', 'scoutes', 'blak', '627', 'psf', 'hanky', 'dismanted', 'free_research_accounts_from_leading_medical_publisher', 'loudness', 'upheavel', '2569', 'likable', 'exportable', 'twining']\n",
      "There are 36233 words in this corpus\n"
     ]
    }
   ],
   "source": [
    "from sklearn import feature_extraction, linear_model, model_selection, preprocessing\n",
    "\n",
    "cv1 = feature_extraction.text.CountVectorizer(max_df=0.25)\n",
    "cv1.fit_transform(train_df[\"comment_text\"])\n",
    "\n",
    "print(\"%i words discarded for occurring too frequently:\" %(len(cv1.stop_words_)))\n",
    "print(cv1.stop_words_)\n",
    "\n",
    "cv2 = feature_extraction.text.CountVectorizer(min_df=5)\n",
    "cv2.fit_transform(train_df[\"comment_text\"])\n",
    "\n",
    "print(\"%i words discarded for occurring too infrequently:\" %(len(cv2.stop_words_)))\n",
    "print(list(cv2.stop_words_)[0:20])\n",
    "\n",
    "count_vectorizer = feature_extraction.text.CountVectorizer(max_df=0.25, min_df=5)\n",
    "train_vectors = count_vectorizer.fit_transform(train_df[\"comment_text\"])\n",
    "\n",
    "print(\"There are %i words in this corpus\" %(train_vectors.shape[1]))\n"
   ]
  },
  {
   "cell_type": "code",
   "execution_count": 6,
   "metadata": {},
   "outputs": [
    {
     "name": "stdout",
     "output_type": "stream",
     "text": [
      "Percent correctly labeled comments by Ridge Classifier:\n",
      "0.9365799550043554\n",
      "f1 score for non-toxic comments:\n",
      "0.9660220252484555\n",
      "f1 score for toxic comments:\n",
      "0.5249272368791663\n"
     ]
    }
   ],
   "source": [
    "from sklearn.metrics import f1_score\n",
    "\n",
    "clf = linear_model.RidgeClassifier().fit(train_vectors, train_df[\"toxic\"])\n",
    "print(\"Percent correctly labeled comments by Ridge Classifier:\")\n",
    "print(clf.score(train_vectors, train_df[\"toxic\"]))\n",
    "\n",
    "print(\"f1 score for non-toxic comments:\")\n",
    "print(f1_score(train_df[\"toxic\"],clf.predict(train_vectors),pos_label=0))\n",
    "\n",
    "print(\"f1 score for toxic comments:\")\n",
    "print(f1_score(train_df[\"toxic\"],clf.predict(train_vectors),pos_label=1))\n"
   ]
  },
  {
   "cell_type": "markdown",
   "metadata": {},
   "source": [
    "Although 93.6% correctly labeled might look good, most naive classifier would have 90% accuracy. More important criteria here is  the f1 score for both classes"
   ]
  },
  {
   "cell_type": "code",
   "execution_count": 7,
   "metadata": {},
   "outputs": [
    {
     "name": "stdout",
     "output_type": "stream",
     "text": [
      "Toxic comments incorrectly labeled as Non-Toxic comments: \n",
      "\n",
      "\n",
      "Hey... what is it..\r\n",
      "@ | talk .\r\n",
      "What is it... an exclusive group of some WP TALIBANS...who are good at destroying, self-appointed purist who GANG UP any one who asks them questions abt their ANTI-SOCIAL and DESTRUCTIVE (non)-contribution at WP?\r\n",
      "\r\n",
      "Ask Sityush to clean up his behavior than issue me nonsensical warnings...\n",
      "------------------------------------------------------------------------------------------------------------------------\n",
      "Bye! \r\n",
      "\r\n",
      "Don't look, come or think of comming back! Tosser.\n",
      "------------------------------------------------------------------------------------------------------------------------\n",
      "FUCK YOUR FILTHY MOTHER IN THE ASS, DRY!\n",
      "------------------------------------------------------------------------------------------------------------------------\n",
      "I'm Sorry \r\n",
      "\r\n",
      "I'm sorry I screwed around with someones talk page.  It was very bad to do.  I know how having the templates on their talk page helps you assert your dominance over them.  I know I should bow down to the almighty administrators.  But then again, I'm going to go play outside....with your mom.   76.122.79.82\n",
      "------------------------------------------------------------------------------------------------------------------------\n",
      "=Tony Sidaway is obviously a fistfuckee. He loves an arm up his ass.\n",
      "------------------------------------------------------------------------------------------------------------------------\n",
      "Non-Toxic comments incorrectly labeled as Toxic comments: \n",
      "\n",
      "\n",
      "REPLY ABOVE:\r\n",
      "That was me, loser. The UN defines Vietnam to be part of Southeast Asia. And far as I know Vietnam is part of ASEAN, and used to be part of French Indochina with Laos and all those shit countries Anyway your culture has always been more influenced by SEA than Han Chinese (as in proper Yangtze Han Chinese, not the fringe indigenous tribes in Guangzhou/Guangxi). \r\n",
      "\r\n",
      "Just admit that you vietnamese are all a bunch of wannabe crap people. ALL the east asian people I've spoken to thinks of Vietnam as a very integral part of SEA, and we all think you're backward, dirty and speak in a horrible swearing language. Doesn't matter what crap you spout on Wikipedia, won't change the way people in the real world think.\n",
      "------------------------------------------------------------------------------------------------------------------------\n",
      "\"== new ==\r\n",
      "\r\n",
      "{{userbox \r\n",
      " TABTAB| id =  \r\n",
      " TABTAB| id-c = White \r\n",
      " TABTAB| info = This user is a faggot. \r\n",
      " TABTAB| info-c = LightBlue \r\n",
      " TABTAB| border-c = Black \r\n",
      " TABTAB| usercategory = LGBT Wikipedians \r\n",
      " TABTAB| nocat =  \r\n",
      " TABTAB}} \r\n",
      " TABTAB\r\n",
      " TABTAB- ''This template automatically categorizes the user in LGBT\"\n",
      "------------------------------------------------------------------------------------------------------------------------\n",
      "Well I will use my user page then, don't tell meyour gonna remove it too, because that will piss me off and drive me nuts. Also I am not making a personal ttack on Jimmy wales, I am saying he is a bit to greedy dont you think? He's got 6 million dollars already and now he's asking for more.\n",
      "------------------------------------------------------------------------------------------------------------------------\n",
      "NO. You have the right to express an opinion that you consider it to be Hasbara, or crap, or both. You do not have the right to identify it as Hasbara, crap, or both.\n",
      "------------------------------------------------------------------------------------------------------------------------\n",
      "User talk:Hammersoft \r\n",
      "\r\n",
      "Since you do not wish to keep a civil tongue in your discourse with me, then stay off my talk page. The thread has been removed, and no further discussion from you is required, asked for, or wanted. Stay off my talk page. Good day,   \r\n",
      "Don't behave like a tosser, if you stay away from the IW page I'll stay away from your page.\n",
      "------------------------------------------------------------------------------------------------------------------------\n"
     ]
    }
   ],
   "source": [
    "predict_toxic = clf.predict(train_vectors)\n",
    "error1 = []\n",
    "error2 = []\n",
    "for i in range(len(predict_toxic)):\n",
    "    prediction = predict_toxic[i]\n",
    "    actual = train_df.iloc[i, 2]\n",
    "    if prediction == 0 and actual == 1 and len(error1) < 5:\n",
    "        error1.append(train_df.iloc[i,1])\n",
    "    elif prediction == 1 and actual == 0 and len(error2) < 5:\n",
    "        error2.append(train_df.iloc[i,1])\n",
    "\n",
    "print(\"Toxic comments incorrectly labeled as Non-Toxic comments: \")\n",
    "print(\"\\n\")\n",
    "for comment in error1:\n",
    "    print(comment)\n",
    "    print(\"-\"*120)\n",
    "    \n",
    "print(\"Non-Toxic comments incorrectly labeled as Toxic comments: \")\n",
    "print(\"\\n\")\n",
    "for comment in error2:\n",
    "    print(comment)\n",
    "    print(\"-\"*120)\n",
    "    "
   ]
  },
  {
   "cell_type": "markdown",
   "metadata": {},
   "source": [
    "Taking a look at which words contribute to the classifier labeling toxic vs. non-toxic comments:"
   ]
  },
  {
   "cell_type": "code",
   "execution_count": 8,
   "metadata": {},
   "outputs": [
    {
     "name": "stdout",
     "output_type": "stream",
     "text": [
      "Most 'toxic' words:\n",
      "areaseven\n",
      "fashist\n",
      "donkeys\n",
      "bullshits\n",
      "ungraceful\n",
      "andrex\n",
      "shadeed\n",
      "kikes\n",
      "fuckhead\n",
      "fucktard\n",
      "butthole\n",
      "fuckstick\n",
      "chode\n",
      "jerkoff\n",
      "sieg\n",
      "fuckwit\n",
      "shitbag\n",
      "ure\n",
      "lyoko\n",
      "mattythewhite\n",
      "dumbfuck\n",
      "provocateur\n",
      "avenge\n",
      "adage\n",
      "caus\n",
      "\n",
      "\n",
      "Most 'non-toxic' words:\n",
      "spotty\n",
      "kamehameha\n",
      "tore\n",
      "dustbin\n",
      "mothjer\n",
      "giggling\n",
      "aristocrats\n",
      "unfettered\n",
      "pinky\n",
      "bitchass\n",
      "infidels\n",
      "heartbeat\n",
      "swollen\n",
      "rots\n",
      "rube\n",
      "amadeus\n",
      "cker\n",
      "eject\n",
      "tricking\n",
      "wikipedea\n",
      "ilchee\n",
      "clam\n",
      "heater\n",
      "saliva\n",
      "angela\n"
     ]
    }
   ],
   "source": [
    "n = 25\n",
    "idx_max = (-clf.coef_).argsort()\n",
    "\n",
    "print(\"Most 'toxic' words:\")\n",
    "for i in range(n):\n",
    "    num = idx_max[0][i]\n",
    "    print(count_vectorizer.get_feature_names()[num])\n",
    "\n",
    "    \n",
    "idx_min = (clf.coef_).argsort()\n",
    "print(\"\\n\")\n",
    "print(\"Most 'non-toxic' words:\")\n",
    "for i in range(n):\n",
    "    num = idx_min[0][i]\n",
    "    print(count_vectorizer.get_feature_names()[num])\n",
    "    "
   ]
  },
  {
   "cell_type": "markdown",
   "metadata": {},
   "source": [
    "So we can see that some non-toxic words snuck into the toxic word list and vice versa."
   ]
  },
  {
   "cell_type": "code",
   "execution_count": 9,
   "metadata": {},
   "outputs": [
    {
     "data": {
      "image/png": "[encoded data removed]",
      "text/plain": [
       "<Figure size 432x288 with 1 Axes>"
      ]
     },
     "metadata": {},
     "output_type": "display_data"
    },
    {
     "name": "stdout",
     "output_type": "stream",
     "text": [
      "Percentage of words with a positive (leaning towards toxic) coefficient:\n",
      "0.4709242955316976\n",
      "Percentage of words with a negative (leaning towards non-toxic) coefficient:\n",
      "0.5290757044683023\n"
     ]
    }
   ],
   "source": [
    "\n",
    "plt.hist(clf.coef_[0,:],bins=500,range=[-0.5,0.5])\n",
    "plt.title(\"Distribution of Ridge Classifier Coefficient Values\")\n",
    "plt.show()\n",
    "\n",
    "pos = len(clf.coef_[clf.coef_ > 0])\n",
    "\n",
    "tot = len(clf.coef_[0,:])\n",
    "\n",
    "toxic_leaning = pos/tot\n",
    "non_toxic_leaning = 1 - toxic_leaning\n",
    "\n",
    "print(\"Percentage of words with a positive (leaning towards toxic) coefficient:\")\n",
    "print(toxic_leaning)\n",
    "\n",
    "print(\"Percentage of words with a negative (leaning towards non-toxic) coefficient:\")\n",
    "print(non_toxic_leaning)"
   ]
  },
  {
   "cell_type": "markdown",
   "metadata": {},
   "source": [
    "> # TF-IDF\n",
    "\n",
    "Now, doing a very similar classification, but instead of CountVectorizer, construct a matrix of Tf-Idf features.\n"
   ]
  },
  {
   "cell_type": "code",
   "execution_count": 10,
   "metadata": {},
   "outputs": [
    {
     "name": "stdout",
     "output_type": "stream",
     "text": [
      "There are 36233 words in this corpus\n",
      "Percent correctly labeled comments by Ridge Classifier:\n",
      "0.963245201195706\n",
      "f1 score for non-toxic comments:\n",
      "0.9800164229908243\n",
      "f1 score for toxic comments:\n",
      "0.77135394331605\n"
     ]
    }
   ],
   "source": [
    "\n",
    "count_vectorizer = feature_extraction.text.TfidfVectorizer(max_df=0.25, min_df=5)\n",
    "train_vectors = count_vectorizer.fit_transform(train_df[\"comment_text\"])\n",
    "\n",
    "print(\"There are %i words in this corpus\" %(train_vectors.shape[1]))\n",
    "\n",
    "clf = linear_model.RidgeClassifier().fit(train_vectors, train_df[\"toxic\"])\n",
    "print(\"Percent correctly labeled comments by Ridge Classifier:\")\n",
    "print(clf.score(train_vectors, train_df[\"toxic\"]))\n",
    "\n",
    "print(\"f1 score for non-toxic comments:\")\n",
    "print(f1_score(train_df[\"toxic\"],clf.predict(train_vectors),pos_label=0))\n",
    "\n",
    "print(\"f1 score for toxic comments:\")\n",
    "print(f1_score(train_df[\"toxic\"],clf.predict(train_vectors),pos_label=1))"
   ]
  },
  {
   "cell_type": "markdown",
   "metadata": {},
   "source": [
    "Markedly better than CountVectorizer."
   ]
  },
  {
   "cell_type": "code",
   "execution_count": 11,
   "metadata": {},
   "outputs": [
    {
     "name": "stdout",
     "output_type": "stream",
     "text": [
      "Toxic comments incorrectly labeled as Non-Toxic comments: \n",
      "\n",
      "\n",
      "Hey... what is it..\r\n",
      "@ | talk .\r\n",
      "What is it... an exclusive group of some WP TALIBANS...who are good at destroying, self-appointed purist who GANG UP any one who asks them questions abt their ANTI-SOCIAL and DESTRUCTIVE (non)-contribution at WP?\r\n",
      "\r\n",
      "Ask Sityush to clean up his behavior than issue me nonsensical warnings...\n",
      "------------------------------------------------------------------------------------------------------------------------\n",
      "Bye! \r\n",
      "\r\n",
      "Don't look, come or think of comming back! Tosser.\n",
      "------------------------------------------------------------------------------------------------------------------------\n",
      "I'm Sorry \r\n",
      "\r\n",
      "I'm sorry I screwed around with someones talk page.  It was very bad to do.  I know how having the templates on their talk page helps you assert your dominance over them.  I know I should bow down to the almighty administrators.  But then again, I'm going to go play outside....with your mom.   76.122.79.82\n",
      "------------------------------------------------------------------------------------------------------------------------\n",
      "=Tony Sidaway is obviously a fistfuckee. He loves an arm up his ass.\n",
      "------------------------------------------------------------------------------------------------------------------------\n",
      "Why can't you believe how fat Artie is? Did you see him on his recent appearence on the Tonight Show with Jay Leno? He looks absolutely AWFUL! If I had to put money on it, I'd say that Artie Lange is a can't miss candidate for the 2007 Dead pool!   \r\n",
      "\r\n",
      "  \r\n",
      "Kindly keep your malicious fingers off of my above comment, . Everytime you remove it, I will repost it!!!\n",
      "------------------------------------------------------------------------------------------------------------------------\n",
      "Non-Toxic comments incorrectly labeled as Toxic comments: \n",
      "\n",
      "\n",
      "LMAO, what a n00b. Go and listen to manele!\n",
      "------------------------------------------------------------------------------------------------------------------------\n",
      "\"know the sex of the foetus\"\"\"\n",
      "------------------------------------------------------------------------------------------------------------------------\n",
      "REPLY ABOVE:\r\n",
      "That was me, loser. The UN defines Vietnam to be part of Southeast Asia. And far as I know Vietnam is part of ASEAN, and used to be part of French Indochina with Laos and all those shit countries Anyway your culture has always been more influenced by SEA than Han Chinese (as in proper Yangtze Han Chinese, not the fringe indigenous tribes in Guangzhou/Guangxi). \r\n",
      "\r\n",
      "Just admit that you vietnamese are all a bunch of wannabe crap people. ALL the east asian people I've spoken to thinks of Vietnam as a very integral part of SEA, and we all think you're backward, dirty and speak in a horrible swearing language. Doesn't matter what crap you spout on Wikipedia, won't change the way people in the real world think.\n",
      "------------------------------------------------------------------------------------------------------------------------\n",
      "hate is my topic is hate\r\n",
      "if you hate a person means you like that person. Your hate can turn into your love\n",
      "------------------------------------------------------------------------------------------------------------------------\n",
      "NO. You have the right to express an opinion that you consider it to be Hasbara, or crap, or both. You do not have the right to identify it as Hasbara, crap, or both.\n",
      "------------------------------------------------------------------------------------------------------------------------\n"
     ]
    }
   ],
   "source": [
    "predict_toxic = clf.predict(train_vectors)\n",
    "error1 = []\n",
    "error2 = []\n",
    "for i in range(len(predict_toxic)):\n",
    "    prediction = predict_toxic[i]\n",
    "    actual = train_df.iloc[i, 2]\n",
    "    if prediction == 0 and actual == 1 and len(error1) < 5:\n",
    "        error1.append(train_df.iloc[i,1])\n",
    "    elif prediction == 1 and actual == 0 and len(error2) < 5:\n",
    "        error2.append(train_df.iloc[i,1])\n",
    "\n",
    "print(\"Toxic comments incorrectly labeled as Non-Toxic comments: \")\n",
    "print(\"\\n\")\n",
    "for comment in error1:\n",
    "    print(comment)\n",
    "    print(\"-\"*120)\n",
    "    \n",
    "print(\"Non-Toxic comments incorrectly labeled as Toxic comments: \")\n",
    "print(\"\\n\")\n",
    "for comment in error2:\n",
    "    print(comment)\n",
    "    print(\"-\"*120)"
   ]
  },
  {
   "cell_type": "code",
   "execution_count": 12,
   "metadata": {},
   "outputs": [
    {
     "name": "stdout",
     "output_type": "stream",
     "text": [
      "Most 'toxic' words:\n",
      "idiot\n",
      "bullshit\n",
      "stupid\n",
      "idiots\n",
      "crap\n",
      "morons\n",
      "idiotic\n",
      "fuck\n",
      "moron\n",
      "sucks\n",
      "shit\n",
      "dumbass\n",
      "pathetic\n",
      "fucked\n",
      "stupidity\n",
      "bitching\n",
      "hypocrite\n",
      "jerk\n",
      "penis\n",
      "assholes\n",
      "niggers\n",
      "jackass\n",
      "ck\n",
      "fuckhead\n",
      "pervert\n",
      "\n",
      "\n",
      "Most 'non-toxic' words:\n",
      "joshuaz\n",
      "nambla\n",
      "dads\n",
      "aquaman\n",
      "callin\n",
      "habitual\n",
      "embarrassment\n",
      "sapiens\n",
      "wannabes\n",
      "complains\n",
      "witless\n",
      "prejudiced\n",
      "unfettered\n",
      "rube\n",
      "sponsered\n",
      "knee\n",
      "carbuncle\n",
      "pontificate\n",
      "contracted\n",
      "insanity\n",
      "rango\n",
      "weirdest\n",
      "deletin\n",
      "sniping\n",
      "cradle\n"
     ]
    }
   ],
   "source": [
    "n = 25\n",
    "idx_max = (-clf.coef_).argsort()\n",
    "\n",
    "print(\"Most 'toxic' words:\")\n",
    "for i in range(n):\n",
    "    num = idx_max[0][i]\n",
    "    print(count_vectorizer.get_feature_names()[num])\n",
    "\n",
    "    \n",
    "idx_min = (clf.coef_).argsort()\n",
    "print(\"\\n\")\n",
    "print(\"Most 'non-toxic' words:\")\n",
    "for i in range(n):\n",
    "    num = idx_min[0][i]\n",
    "    print(count_vectorizer.get_feature_names()[num])"
   ]
  },
  {
   "cell_type": "code",
   "execution_count": 13,
   "metadata": {},
   "outputs": [
    {
     "data": {
      "image/png": "[encoded data removed]",
      "text/plain": [
       "<Figure size 432x288 with 1 Axes>"
      ]
     },
     "metadata": {},
     "output_type": "display_data"
    },
    {
     "name": "stdout",
     "output_type": "stream",
     "text": [
      "Percentage of words with a positive (leaning towards toxic) coefficient:\n",
      "0.407170259156018\n",
      "Percentage of words with a negative (leaning towards non-toxic) coefficient:\n",
      "0.592829740843982\n"
     ]
    }
   ],
   "source": [
    "\n",
    "plt.hist(clf.coef_[0,:],bins=500,range=[-0.5,0.5])\n",
    "plt.title(\"Distribution of Ridge Classifier Coefficient Values\")\n",
    "plt.show()\n",
    "\n",
    "pos = len(clf.coef_[clf.coef_ > 0])\n",
    "\n",
    "tot = len(clf.coef_[0,:])\n",
    "\n",
    "toxic_leaning = pos/tot\n",
    "non_toxic_leaning = 1 - toxic_leaning\n",
    "\n",
    "print(\"Percentage of words with a positive (leaning towards toxic) coefficient:\")\n",
    "print(toxic_leaning)\n",
    "\n",
    "print(\"Percentage of words with a negative (leaning towards non-toxic) coefficient:\")\n",
    "print(non_toxic_leaning)"
   ]
  },
  {
   "cell_type": "markdown",
   "metadata": {},
   "source": [
    "The tail for the positive end of the distribution has grown fatter; this means that this model has actually found more words that surely must be toxic, as opposed to before where the vast majority of words were somewhat toxic and somewhat non-toxic. "
   ]
  },
  {
   "cell_type": "code",
   "execution_count": 14,
   "metadata": {},
   "outputs": [],
   "source": [
    "# Converting clf model to model.pkl file\n",
    "import pickle\n",
    "pickle.dump(clf,open('model.pkl','wb'))\n",
    "pickle.dump(count_vectorizer, open('count_vect.pkl', 'wb'))\n",
    "model=pickle.load(open('model.pkl','rb'))"
   ]
  },
  {
   "cell_type": "markdown",
   "metadata": {},
   "source": [
    "# RNN\n"
   ]
  },
  {
   "cell_type": "code",
   "execution_count": 15,
   "metadata": {},
   "outputs": [
    {
     "ename": "ModuleNotFoundError",
     "evalue": "No module named 'torch'",
     "output_type": "error",
     "traceback": [
      "\u001b[1;31m---------------------------------------------------------------------------\u001b[0m",
      "\u001b[1;31mModuleNotFoundError\u001b[0m                       Traceback (most recent call last)",
      "\u001b[1;32m<ipython-input-15-8ee03c24a4de>\u001b[0m in \u001b[0;36m<module>\u001b[1;34m\u001b[0m\n\u001b[1;32m----> 1\u001b[1;33m \u001b[1;32mimport\u001b[0m \u001b[0mtorch\u001b[0m\u001b[1;33m\u001b[0m\u001b[1;33m\u001b[0m\u001b[0m\n\u001b[0m\u001b[0;32m      2\u001b[0m \u001b[1;32mfrom\u001b[0m \u001b[0mtorchtext\u001b[0m \u001b[1;32mimport\u001b[0m \u001b[0mdata\u001b[0m\u001b[1;33m\u001b[0m\u001b[1;33m\u001b[0m\u001b[0m\n\u001b[0;32m      3\u001b[0m \u001b[1;33m\u001b[0m\u001b[0m\n\u001b[0;32m      4\u001b[0m \u001b[0mtrain_path\u001b[0m \u001b[1;33m=\u001b[0m \u001b[1;34m'/kaggle/input/hate-speech-detection/toxic_train.csv'\u001b[0m\u001b[1;33m\u001b[0m\u001b[1;33m\u001b[0m\u001b[0m\n\u001b[0;32m      5\u001b[0m \u001b[0mtest_path\u001b[0m \u001b[1;33m=\u001b[0m \u001b[1;34m'/kaggle/input/hate-speech-detection/toxic_test.csv'\u001b[0m\u001b[1;33m\u001b[0m\u001b[1;33m\u001b[0m\u001b[0m\n",
      "\u001b[1;31mModuleNotFoundError\u001b[0m: No module named 'torch'"
     ]
    }
   ],
   "source": [
    "import torch   \n",
    "from torchtext import data\n",
    "\n",
    "train_path = '/kaggle/input/hate-speech-detection/toxic_train.csv'\n",
    "test_path = '/kaggle/input/hate-speech-detection/toxic_test.csv'\n",
    "\n",
    "TEXT = data.Field(tokenize='spacy',batch_first=True,include_lengths=True)\n",
    "LABEL = data.LabelField(dtype = torch.float,batch_first=True)\n",
    "\n",
    "fields = [('', None), ('comment_text',TEXT),('toxic', LABEL)]\n",
    "\n",
    "training_data=data.TabularDataset(path = train_path,format = 'csv',fields = fields,skip_header = True)\n",
    "print(vars(training_data.examples[0]))\n"
   ]
  },
  {
   "cell_type": "code",
   "execution_count": null,
   "metadata": {},
   "outputs": [],
   "source": [
    "import random\n",
    "train_data, valid_data = training_data.split(split_ratio=0.7)\n",
    "\n",
    "#initialize glove embeddings\n",
    "TEXT.build_vocab(train_data,min_freq=3)  \n",
    "LABEL.build_vocab(train_data)\n",
    "\n",
    "#No. of unique tokens in text\n",
    "print(\"Size of TEXT vocabulary:\",len(TEXT.vocab))\n",
    "\n",
    "#No. of unique tokens in label\n",
    "print(\"Size of LABEL vocabulary:\",len(LABEL.vocab))\n",
    "\n",
    "#Commonly used words\n",
    "print(TEXT.vocab.freqs.most_common(10))  \n",
    "\n",
    "#Word dictionary\n",
    "#print(TEXT.vocab.stoi)  "
   ]
  },
  {
   "cell_type": "code",
   "execution_count": null,
   "metadata": {},
   "outputs": [],
   "source": [
    "#check whether cuda is available\n",
    "device = torch.device('cuda' if torch.cuda.is_available() else 'cpu')  \n",
    "print(device)\n",
    "\n",
    "#set batch size\n",
    "BATCH_SIZE = 400\n",
    "\n",
    "#Load an iterator\n",
    "train_iterator, valid_iterator = data.BucketIterator.splits(\n",
    "    (train_data, valid_data), \n",
    "    batch_size = BATCH_SIZE,\n",
    "    sort_key = lambda x: len(x.comment_text),\n",
    "    sort_within_batch=True,\n",
    "    device = device)"
   ]
  },
  {
   "cell_type": "code",
   "execution_count": null,
   "metadata": {},
   "outputs": [],
   "source": [
    "import torch.nn as nn\n",
    "\n",
    "class classifier(nn.Module):\n",
    "    \n",
    "    #define all the layers used in model\n",
    "    def __init__(self, vocab_size, embedding_dim, hidden_dim, output_dim, n_layers, \n",
    "                 bidirectional, dropout):\n",
    "        \n",
    "        #Constructor\n",
    "        super().__init__()          \n",
    "        \n",
    "        #embedding layer\n",
    "        self.embedding = nn.Embedding(vocab_size, embedding_dim)\n",
    "        \n",
    "        #lstm layer\n",
    "        self.lstm = nn.LSTM(embedding_dim, \n",
    "                           hidden_dim, \n",
    "                           num_layers=n_layers, \n",
    "                           bidirectional=bidirectional, \n",
    "                           dropout=dropout,\n",
    "                           batch_first=True)\n",
    "        \n",
    "        #dense layer\n",
    "        self.fc = nn.Linear(hidden_dim * 2, output_dim)\n",
    "        \n",
    "        #activation function\n",
    "        self.act = nn.Sigmoid()\n",
    "        \n",
    "    def forward(self, text, text_lengths):\n",
    "        \n",
    "        #text = [batch size,sent_length]\n",
    "        embedded = self.embedding(text)\n",
    "        #embedded = [batch size, sent_len, emb dim]\n",
    "      \n",
    "        #packed sequence\n",
    "        packed_embedded = nn.utils.rnn.pack_padded_sequence(embedded, text_lengths,batch_first=True)\n",
    "        \n",
    "        packed_output, (hidden, cell) = self.lstm(packed_embedded)\n",
    "        #hidden = [batch size, num layers * num directions,hid dim]\n",
    "        #cell = [batch size, num layers * num directions,hid dim]\n",
    "        \n",
    "        #concat the final forward and backward hidden state\n",
    "        hidden = torch.cat((hidden[-2,:,:], hidden[-1,:,:]), dim = 1)\n",
    "                \n",
    "        #hidden = [batch size, hid dim * num directions]\n",
    "        dense_outputs=self.fc(hidden)\n",
    "\n",
    "        #Final activation function\n",
    "        outputs=self.act(dense_outputs)\n",
    "        \n",
    "        return outputs"
   ]
  },
  {
   "cell_type": "code",
   "execution_count": null,
   "metadata": {},
   "outputs": [],
   "source": [
    "#define hyperparameters\n",
    "size_of_vocab = len(TEXT.vocab)\n",
    "embedding_dim = 100\n",
    "num_hidden_nodes = 32\n",
    "num_output_nodes = 1\n",
    "num_layers = 2\n",
    "bidirection = True\n",
    "dropout = 0.2\n",
    "\n",
    "#instantiate the model\n",
    "model = classifier(size_of_vocab, embedding_dim, num_hidden_nodes,num_output_nodes, num_layers, \n",
    "                   bidirectional = True, dropout = dropout)"
   ]
  },
  {
   "cell_type": "code",
   "execution_count": null,
   "metadata": {},
   "outputs": [],
   "source": [
    "import torch.optim as optim\n",
    "\n",
    "#define optimizer and loss\n",
    "optimizer = optim.Adam(model.parameters())\n",
    "criterion = nn.BCELoss()\n",
    "\n",
    "#define metric\n",
    "def binary_accuracy(preds, y):\n",
    "    #round predictions to the closest integer\n",
    "    rounded_preds = torch.round(preds)\n",
    "    \n",
    "    correct = (rounded_preds == y).float() \n",
    "    acc = correct.sum() / len(correct)\n",
    "    return acc\n",
    "    \n",
    "#push to cuda if available\n",
    "model = model.to(device)\n",
    "criterion = criterion.to(device)"
   ]
  },
  {
   "cell_type": "code",
   "execution_count": null,
   "metadata": {},
   "outputs": [],
   "source": [
    "from tqdm import tqdm_notebook as tqdm\n",
    "\n",
    "def train(model, iterator, optimizer, criterion):\n",
    "    \n",
    "    #initialize every epoch \n",
    "    epoch_loss = 0\n",
    "    epoch_acc = 0\n",
    "    \n",
    "    accs = []\n",
    "    losses = []\n",
    "    batches = []\n",
    "    \n",
    "    #set the model in training phase\n",
    "    model.train()  \n",
    "    \n",
    "    batch_num = 0\n",
    "    \n",
    "    for batch in tqdm(iterator):\n",
    "        \n",
    "        #resets the gradients after every batch\n",
    "        optimizer.zero_grad()   \n",
    "        \n",
    "        #retrieve text and no. of words\n",
    "        text, text_lengths = batch.comment_text   \n",
    "        \n",
    "        #convert to 1D tensor\n",
    "        predictions = model(text, text_lengths).squeeze()  \n",
    "        \n",
    "        #compute the loss\n",
    "        loss = criterion(predictions, batch.toxic)        \n",
    "        \n",
    "        #compute the binary accuracy\n",
    "        acc = binary_accuracy(predictions, batch.toxic)   \n",
    "        \n",
    "        #backpropage the loss and compute the gradients\n",
    "        loss.backward()       \n",
    "        \n",
    "        #update the weights\n",
    "        optimizer.step()      \n",
    "        \n",
    "        #loss and accuracy\n",
    "        epoch_loss += loss.item()  \n",
    "        epoch_acc += acc.item()\n",
    "        \n",
    "        losses.append(loss.item())\n",
    "        accs.append(acc.item())\n",
    "        batches.append(batch_num)\n",
    "        \n",
    "        batch_num += 1\n",
    "        \n",
    "    return epoch_loss / len(iterator), epoch_acc / len(iterator), losses, accs, batches"
   ]
  },
  {
   "cell_type": "code",
   "execution_count": null,
   "metadata": {},
   "outputs": [],
   "source": [
    "def evaluate(model, iterator, criterion):\n",
    "    \n",
    "    #initialize every epoch\n",
    "    epoch_loss = 0\n",
    "    epoch_acc = 0\n",
    "    \n",
    "    losses = []\n",
    "    accs = []\n",
    "    batches = []\n",
    "\n",
    "    #deactivating dropout layers\n",
    "    model.eval()\n",
    "    \n",
    "    #deactivates autograd\n",
    "    with torch.no_grad():\n",
    "        \n",
    "        batch_num = 0\n",
    "    \n",
    "        for batch in iterator:\n",
    "            \n",
    "        \n",
    "            #retrieve text and no. of words\n",
    "            text, text_lengths = batch.comment_text\n",
    "            \n",
    "            #convert to 1d tensor\n",
    "            predictions = model(text, text_lengths).squeeze()\n",
    "            \n",
    "            #compute loss and accuracy\n",
    "            loss = criterion(predictions, batch.toxic)\n",
    "            acc = binary_accuracy(predictions, batch.toxic)\n",
    "            \n",
    "            #keep track of loss and accuracy\n",
    "            epoch_loss += loss.item()\n",
    "            epoch_acc += acc.item()\n",
    "            \n",
    "            losses.append(loss.item())\n",
    "            accs.append(acc.item())\n",
    "            batches.append(batch_num)\n",
    "            batch_num += 1\n",
    "        \n",
    "    return epoch_loss / len(iterator), epoch_acc / len(iterator), losses, accs, batches"
   ]
  },
  {
   "cell_type": "code",
   "execution_count": null,
   "metadata": {},
   "outputs": [],
   "source": [
    "N_EPOCHS = 5\n",
    "best_valid_loss = float('inf')\n",
    "\n",
    "for epoch in range(N_EPOCHS):\n",
    "     \n",
    "    #train the model\n",
    "    train_loss, train_acc, losses, accs, batches = train(model, train_iterator, optimizer, criterion)\n",
    "    \n",
    "    plt.plot(batches, losses)\n",
    "    plt.title(\"Loss during epoch %i\" %(epoch))\n",
    "    plt.show()\n",
    "    \n",
    "    plt.plot(batches, accs)\n",
    "    plt.title(\"Accuracy during epoch %i\" %(epoch))\n",
    "    plt.show()\n",
    "    \n",
    "    #evaluate the model\n",
    "    valid_loss, valid_acc, losses, accs, batches = evaluate(model, valid_iterator, criterion)\n",
    "    \n",
    "    plt.plot(batches, losses)\n",
    "    plt.title(\"Loss during epoch %i\" %(epoch))\n",
    "    plt.show()\n",
    "    \n",
    "    plt.plot(batches, accs)\n",
    "    plt.title(\"Accuracy during epoch %i\" %(epoch))\n",
    "    plt.show()\n",
    "    \n",
    "    #save the best model\n",
    "    if valid_loss < best_valid_loss:\n",
    "        best_valid_loss = valid_loss\n",
    "        #torch.save(model.state_dict(), 'saved_weights.pt')\n",
    "    \n",
    "    print(f'\\tTrain Loss: {train_loss:.3f} | Train Acc: {train_acc*100:.2f}%')\n",
    "    print(f'\\t Val. Loss: {valid_loss:.3f} |  Val. Acc: {valid_acc*100:.2f}%')"
   ]
  }
 ],
 "metadata": {
  "kernelspec": {
   "display_name": "Python 3",
   "language": "python",
   "name": "python3"
  },
  "language_info": {
   "codemirror_mode": {
    "name": "ipython",
    "version": 3
   },
   "file_extension": ".py",
   "mimetype": "text/x-python",
   "name": "python",
   "nbconvert_exporter": "python",
   "pygments_lexer": "ipython3",
   "version": "3.7.3"
  }
 },
 "nbformat": 4,
 "nbformat_minor": 4
}
